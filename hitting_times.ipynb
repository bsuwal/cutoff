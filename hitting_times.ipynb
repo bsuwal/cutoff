{
 "cells": [
  {
   "cell_type": "code",
   "execution_count": 1,
   "id": "760c9e6d",
   "metadata": {},
   "outputs": [
    {
     "data": {
      "text/plain": [
       "plot_single_coordinate_over_time (generic function with 1 method)"
      ]
     },
     "execution_count": 1,
     "metadata": {},
     "output_type": "execute_result"
    }
   ],
   "source": [
    "include(\"cutoff.jl\")"
   ]
  },
  {
   "cell_type": "code",
   "execution_count": 4,
   "id": "ee5e1289",
   "metadata": {},
   "outputs": [
    {
     "name": "stdout",
     "output_type": "stream",
     "text": [
      "0/100000 paths did not converge to 0 within 200 steps.\n",
      "187/100000 paths did not converge to 0 within 200 steps.\n",
      "4315/100000 paths did not converge to 0 within 200 steps.\n",
      "20922/100000 paths did not converge to 0 within 200 steps.\n",
      "45302/100000 paths did not converge to 0 within 200 steps.\n",
      "67501/100000 paths did not converge to 0 within 200 steps.\n"
     ]
    }
   ],
   "source": [
    "for N = 4:9\n",
    "    # N = 4\n",
    "    X₀ = rand(Uniform(-1, 1), N)\n",
    "    num_chains = 100000\n",
    "    # Dist = Uniform(-1/√N, 1/√N)\n",
    "    # Dist = Normal(0.0, 1)\n",
    "    Dist = Normal(0.0, 1/√N)\n",
    "    activation = σ\n",
    "    # activation = tanh\n",
    "    step_size = 0.001\n",
    "    num_steps = 200\n",
    "    forward = true\n",
    "    store_steps = false\n",
    "\n",
    "    Exp = Experiment(X₀, N, num_chains, Dist, activation, step_size, num_steps, forward, store_steps)\n",
    "    times = hitting_times(Exp)\n",
    "\n",
    "    diststr_greek, diststr_nongreek, actstr, dynamicsstr = get_plotting_strs(Exp)\n",
    "\n",
    "    bins = 0:1:num_steps\n",
    "    hist = normalize(fit(Histogram, times, bins), mode=:probability)\n",
    "    # histogram values can be obtained from hist.weights\n",
    "\n",
    "    p = plot(hist,\n",
    "        title=\"$diststr_greek, $actstr, N=$N, \\n $dynamicsstr, $num_chains chains\",\n",
    "        xlabel=\"t\",\n",
    "        ylabel=\"Pr[T = t]\",\n",
    "        fontsize=30,\n",
    "        tickfontsize=20,\n",
    "        xlim=(0, num_steps),\n",
    "    )\n",
    "\n",
    "    savefig(p, \"imgs/hitting_times/hitting_times $diststr_nongreek $actstr $dynamicsstr N=$N.png\")\n",
    "end"
   ]
  },
  {
   "cell_type": "code",
   "execution_count": null,
   "id": "6d0d20eb",
   "metadata": {},
   "outputs": [],
   "source": [
    "hist.weights"
   ]
  },
  {
   "cell_type": "code",
   "execution_count": null,
   "id": "f178d10e",
   "metadata": {},
   "outputs": [],
   "source": [
    "function pr(N, S, T)\n",
    "    \"\"\"\n",
    "    \"\"\"\n",
    "    if T == 1\n",
    "        return (1/2)^N\n",
    "    end\n",
    "    return (1/2)^N * S * pr(N, S, T-1)\n",
    "end\n"
   ]
  },
  {
   "cell_type": "code",
   "execution_count": null,
   "id": "7a00f4f4",
   "metadata": {},
   "outputs": [],
   "source": [
    "S = 0\n",
    "\n",
    "for i = 1:N\n",
    "    S += binomial(N, i)\n",
    "end\n",
    "\n",
    "for T=1:7\n",
    "    println(pr(N, S, T))\n",
    "end"
   ]
  },
  {
   "cell_type": "code",
   "execution_count": null,
   "id": "5441a3ce",
   "metadata": {},
   "outputs": [],
   "source": [
    "S^1 * (1/2)^(2 * N)"
   ]
  },
  {
   "cell_type": "code",
   "execution_count": null,
   "id": "acd32e54",
   "metadata": {},
   "outputs": [],
   "source": [
    "N = 4\n",
    "S = 0\n",
    "\n",
    "for i = 1:N\n",
    "    S += (binomial(N, i))^2\n",
    "end"
   ]
  },
  {
   "cell_type": "code",
   "execution_count": null,
   "id": "703e6c0c",
   "metadata": {},
   "outputs": [],
   "source": [
    "S * (1/2)^(3 * N)"
   ]
  },
  {
   "cell_type": "code",
   "execution_count": null,
   "id": "e9692a86",
   "metadata": {},
   "outputs": [],
   "source": [
    "S"
   ]
  },
  {
   "cell_type": "code",
   "execution_count": null,
   "id": "a5799d5b",
   "metadata": {},
   "outputs": [],
   "source": [
    "if !false\n",
    "    println(\"s\")\n",
    "end"
   ]
  },
  {
   "cell_type": "code",
   "execution_count": null,
   "id": "0f2ae29f",
   "metadata": {},
   "outputs": [],
   "source": [
    "s = rand(Dist, 3, 3)"
   ]
  },
  {
   "cell_type": "code",
   "execution_count": null,
   "id": "87862021",
   "metadata": {},
   "outputs": [],
   "source": [
    "rand!(Dist, s)"
   ]
  },
  {
   "cell_type": "code",
   "execution_count": null,
   "id": "e0413d39",
   "metadata": {},
   "outputs": [],
   "source": []
  }
 ],
 "metadata": {
  "@webio": {
   "lastCommId": null,
   "lastKernelId": null
  },
  "kernelspec": {
   "display_name": "Julia 1.6.3",
   "language": "julia",
   "name": "julia-1.6"
  },
  "language_info": {
   "file_extension": ".jl",
   "mimetype": "application/julia",
   "name": "julia",
   "version": "1.6.3"
  }
 },
 "nbformat": 4,
 "nbformat_minor": 5
}
