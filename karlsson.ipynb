{
 "cells": [
  {
   "cell_type": "code",
   "execution_count": null,
   "id": "a7b12a4a",
   "metadata": {},
   "outputs": [],
   "source": [
    "using StatsBase\n",
    "using DataStructures\n",
    "using Plots\n",
    "using Distributions\n",
    "using LinearAlgebra\n",
    "\n",
    "include(\"cutoff.jl\")"
   ]
  },
  {
   "cell_type": "code",
   "execution_count": null,
   "id": "369a9b75",
   "metadata": {},
   "outputs": [],
   "source": [
    "N = 4\n",
    "X₀ = rand(Uniform(0, 100), N)\n",
    "\n",
    "# NN params\n",
    "Dist = Uniform(-1/sqrt(N), 1/sqrt(N))\n",
    "# Dist = Normal()\n",
    "# activation = σ\n",
    "activation = tanh\n",
    "\n",
    "step_size = 0.01\n",
    "num_steps = 100\n",
    "\n",
    "tvds = get_tvds(X₀, Dist, activation, num_steps, N, step_size)\n",
    "plot(tvds, \n",
    "     title=\"Uniform, Tanh\", \n",
    "     xlabel=\"# layers\",\n",
    "     ylabel=\"tvd\",\n",
    "     xlim=(0, num_steps),\n",
    "     ylim=(0, 1),\n",
    "     seriestype=:scatter\n",
    ")"
   ]
  },
  {
   "cell_type": "code",
   "execution_count": null,
   "id": "53a22430",
   "metadata": {},
   "outputs": [],
   "source": []
  }
 ],
 "metadata": {
  "@webio": {
   "lastCommId": null,
   "lastKernelId": null
  },
  "kernelspec": {
   "display_name": "Julia 1.6.3",
   "language": "julia",
   "name": "julia-1.6"
  },
  "language_info": {
   "file_extension": ".jl",
   "mimetype": "application/julia",
   "name": "julia",
   "version": "1.6.3"
  }
 },
 "nbformat": 4,
 "nbformat_minor": 5
}
