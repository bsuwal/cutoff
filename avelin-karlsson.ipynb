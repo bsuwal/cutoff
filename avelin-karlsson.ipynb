{
 "cells": [
  {
   "cell_type": "code",
   "execution_count": 1,
   "id": "a7b12a4a",
   "metadata": {},
   "outputs": [
    {
     "data": {
      "text/plain": [
       "mc_tvds (generic function with 1 method)"
      ]
     },
     "execution_count": 1,
     "metadata": {},
     "output_type": "execute_result"
    }
   ],
   "source": [
    "using StatsBase\n",
    "using DataStructures\n",
    "using Plots\n",
    "using Distributions\n",
    "using LinearAlgebra\n",
    "\n",
    "include(\"cutoff.jl\")"
   ]
  },
  {
   "cell_type": "code",
   "execution_count": 51,
   "id": "369a9b75",
   "metadata": {},
   "outputs": [],
   "source": [
    "N = 5\n",
    "X₀ = rand(Uniform(-1, 1), N)\n",
    "num_chains = 1000000\n",
    "\n",
    "# NN params\n",
    "unif = Uniform(-1/sqrt(N), 1/sqrt(N))\n",
    "normal = Normal()\n",
    "\n",
    "Dists = [unif, normal]\n",
    "activations = [σ, tanh]\n",
    "\n",
    "step_size = 0.001\n",
    "num_steps = 20\n",
    "\n",
    "for Dist in Dists\n",
    "    for activation in activations\n",
    "        tvds = mc_tvds(X₀, Dist, activation, num_steps, N, step_size, num_chains)\n",
    "        \n",
    "        dist_str = \"\"\n",
    "        act_str = \"\"\n",
    "        \n",
    "        if typeof(Dist) == Normal{Float64}\n",
    "            diststr = \"Gaussian(0,1)\"\n",
    "        elseif typeof(Dist) == Uniform{Float64}\n",
    "            diststr = \"Uniform\"\n",
    "        end\n",
    "        \n",
    "        if activation == σ\n",
    "            actstr = \"ReLu\"\n",
    "        elseif activation == tanh\n",
    "            actstr = \"TanH\"\n",
    "        end\n",
    "        \n",
    "        plot(tvds, \n",
    "             title=\"$diststr, $actstr, N=$N, $num_chains chains\", \n",
    "             xlabel=\"# layers\",\n",
    "             ylabel=\"tvd\",\n",
    "             xlim=(0, num_steps),\n",
    "             ylim=(-0.2, 1.2),\n",
    "             yticks = 0:0.2:1.2,\n",
    "             seriestype=:scatter\n",
    "        )\n",
    "        savefig(\"$diststr $actstr N=$N.png\")\n",
    "    end\n",
    "end"
   ]
  },
  {
   "cell_type": "code",
   "execution_count": null,
   "id": "8fed4fb0",
   "metadata": {},
   "outputs": [],
   "source": []
  }
 ],
 "metadata": {
  "@webio": {
   "lastCommId": null,
   "lastKernelId": null
  },
  "kernelspec": {
   "display_name": "Julia 1.6.3",
   "language": "julia",
   "name": "julia-1.6"
  },
  "language_info": {
   "file_extension": ".jl",
   "mimetype": "application/julia",
   "name": "julia",
   "version": "1.6.3"
  }
 },
 "nbformat": 4,
 "nbformat_minor": 5
}
