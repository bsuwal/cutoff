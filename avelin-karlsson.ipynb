{
 "cells": [
  {
   "cell_type": "code",
   "execution_count": 4,
   "id": "a7b12a4a",
   "metadata": {},
   "outputs": [
    {
     "ename": "LoadError",
     "evalue": "LoadError: LoadError: LoadError: UndefVarError: @unpack_Experiment not defined\nin expression starting at /Users/bhushansuwal/Desktop/code/cutoff/cutoff_plotting.jl:7\nin expression starting at /Users/bhushansuwal/Desktop/code/cutoff/cutoff_plotting.jl:4\nin expression starting at /Users/bhushansuwal/Desktop/code/cutoff/cutoff.jl:13",
     "output_type": "error",
     "traceback": [
      "LoadError: LoadError: LoadError: UndefVarError: @unpack_Experiment not defined\nin expression starting at /Users/bhushansuwal/Desktop/code/cutoff/cutoff_plotting.jl:7\nin expression starting at /Users/bhushansuwal/Desktop/code/cutoff/cutoff_plotting.jl:4\nin expression starting at /Users/bhushansuwal/Desktop/code/cutoff/cutoff.jl:13",
      "",
      "Stacktrace:",
      " [1] top-level scope",
      "   @ :0",
      " [2] include(fname::String)",
      "   @ Base.MainInclude ./client.jl:444",
      " [3] top-level scope",
      "   @ ~/Desktop/code/cutoff/cutoff.jl:13",
      " [4] include(fname::String)",
      "   @ Base.MainInclude ./client.jl:444",
      " [5] top-level scope",
      "   @ In[4]:1"
     ]
    }
   ],
   "source": [
    "include(\"cutoff.jl\")"
   ]
  },
  {
   "cell_type": "code",
   "execution_count": 2,
   "id": "369a9b75",
   "metadata": {},
   "outputs": [
    {
     "data": {
      "text/plain": [
       "false"
      ]
     },
     "execution_count": 2,
     "metadata": {},
     "output_type": "execute_result"
    }
   ],
   "source": [
    "N = 1\n",
    "X₀ = rand(Uniform(-1, 1), N)\n",
    "num_chains = 100000\n",
    "Dist = Uniform(-1/√N, 1/√N)\n",
    "# Dist = Normal(0.0, 1)\n",
    "# Dist = Normal(0.0, 1/√N)\n",
    "# activation = σ\n",
    "activation = tanh\n",
    "step_size = 0.001\n",
    "num_steps = 20\n",
    "forward = true\n",
    "store_steps = false"
   ]
  },
  {
   "cell_type": "code",
   "execution_count": 3,
   "id": "ec3cd10e",
   "metadata": {},
   "outputs": [
    {
     "ename": "LoadError",
     "evalue": "UndefVarError: Experiment not defined",
     "output_type": "error",
     "traceback": [
      "UndefVarError: Experiment not defined",
      "",
      "Stacktrace:",
      " [1] top-level scope",
      "   @ In[3]:1"
     ]
    }
   ],
   "source": [
    "Exp = Experiment(X₀, N, num_chains, Dist, activation, step_size, num_steps, forward, store_steps)\n",
    "Results = ExperimentResults([], [], [])\n",
    "\n",
    "run_and_plot_tvds(Exp, Results, verbose=true, save=false)"
   ]
  },
  {
   "cell_type": "code",
   "execution_count": null,
   "id": "011dc6ea",
   "metadata": {},
   "outputs": [],
   "source": [
    "# Dists = [Uniform(-1/√N, 1/√N), Normal(0.0, 1/√N)]\n",
    "# activations = [σ, tanh]\n",
    "\n",
    "# for Dist in Dists\n",
    "#     for activation in activations\n",
    "#         Exp = Experiment(X₀, N, num_chains, Dist, activation, step_size, num_steps, forward, store_steps)\n",
    "#         Results = ExperimentResults([], [], [])\n",
    "\n",
    "#         run_and_plot_tvds(Exp, Results, verbose=false, save=true)\n",
    "#     end\n",
    "# end"
   ]
  }
 ],
 "metadata": {
  "@webio": {
   "lastCommId": null,
   "lastKernelId": null
  },
  "kernelspec": {
   "display_name": "Julia 1.6.3",
   "language": "julia",
   "name": "julia-1.6"
  },
  "language_info": {
   "file_extension": ".jl",
   "mimetype": "application/julia",
   "name": "julia",
   "version": "1.6.3"
  }
 },
 "nbformat": 4,
 "nbformat_minor": 5
}
