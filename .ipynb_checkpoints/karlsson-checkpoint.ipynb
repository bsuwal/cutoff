{
 "cells": [
  {
   "cell_type": "code",
   "execution_count": 1,
   "id": "aa083af0",
   "metadata": {},
   "outputs": [],
   "source": [
    "using StatsBase\n",
    "using DataStructures\n",
    "using Plots\n",
    "using Distributions\n",
    "using LinearAlgebra\n",
    "\n",
    "# include(\"cutoff.jl\")"
   ]
  },
  {
   "cell_type": "code",
   "execution_count": 41,
   "id": "94411090",
   "metadata": {},
   "outputs": [
    {
     "data": {
      "text/plain": [
       "tvd (generic function with 1 method)"
      ]
     },
     "execution_count": 41,
     "metadata": {},
     "output_type": "execute_result"
    }
   ],
   "source": [
    "function take_step(Xᵢ, N)\n",
    "    \"\"\"\n",
    "    \"\"\"\n",
    "    Wᵢ = rand(Uniform(-1/sqrt(N), 1/sqrt(N)), N, N)\n",
    "    Xᵢ₊₁= tanh.(Wᵢ * Xᵢ)\n",
    "    Xᵢ₊₁\n",
    "end\n",
    "\n",
    "function get_tensor_coordinate(val, bounds, step_size)\n",
    "    lb, ub = bounds\n",
    "    coordinate = 0\n",
    "    left = round(lb, digits = 3)\n",
    "    \n",
    "    @assert(val <= ub)\n",
    "\n",
    "    while val >= left\n",
    "        coordinate += 1 \n",
    "        left = round(left + step_size, digits=3)\n",
    "    end\n",
    "\n",
    "    coordinate\n",
    "end\n",
    "\n",
    "function get_tensor_coordinates(point, bounds, step_size)\n",
    "    coords = []\n",
    "    for val in point\n",
    "        coord = get_tensor_coordinate(val, bounds, step_size)\n",
    "        push!(coords, coord)\n",
    "    end\n",
    "    coords\n",
    "end\n",
    "\n",
    "function get_interval(val, step_size)\n",
    "    \"\"\"\n",
    "    \"\"\"\n",
    "    left = step_size/2 + floor(val/step_size)\n",
    "    right = left + step_size\n",
    "    \n",
    "    left, right\n",
    "end\n",
    "\n",
    "function get_num_intervals(bounds, step)\n",
    "    lb, ub = bounds\n",
    "    Int(ceil((ub-lb)/step))\n",
    "end\n",
    "\n",
    "function update_dist!(dist, X, bounds, step_size)\n",
    "    \"\"\"\n",
    "    \"\"\"\n",
    "    coords = get_tensor_coordinates(X, bounds, step_size)\n",
    "    dist[CartesianIndex(Tuple(coords))] += 1\n",
    "end\n",
    "\n",
    "function get_point_mass(point, num_intervals, N)\n",
    "    \"\"\"\n",
    "    \"\"\"\n",
    "    pm0 = zeros(Int, Tuple(fill(num_intervals, N)))\n",
    "    coords = get_tensor_coordinates(point, bounds, step_size)\n",
    "    pm0[CartesianIndex(Tuple(coords))] = 1\n",
    "    @assert sum(pm0) == 1\n",
    "    pm0\n",
    "end\n",
    "\n",
    "function get_tvds(X₀, num_steps, N, bounds, step_size)\n",
    "    \"\"\"\n",
    "    \"\"\"\n",
    "    Xᵢ = X₀   \n",
    "    num_intervals = get_num_intervals(bounds, step_size)\n",
    "    dist = zeros(Int, Tuple(fill(num_intervals, N)))\n",
    "    tvds = []\n",
    "\n",
    "    pm0 = get_point_mass(zeros(N), num_intervals, N)\n",
    "    \n",
    "    for i=1:num_steps\n",
    "        Xᵢ₊₁ = take_step(Xᵢ, N)\n",
    "        update_dist!(dist, Xᵢ₊₁, bounds, step_size)\n",
    "        push!(tvds, tvd(normalize(dist, 1), pm0))\n",
    "        Xᵢ = Xᵢ₊₁\n",
    "    end\n",
    "    tvds\n",
    "end\n",
    "\n",
    "function tvd(μ, ϕ)\n",
    "    @assert size(μ) == size(ϕ)\n",
    "    total_diff = 0\n",
    "    \n",
    "    for i in eachindex(μ)\n",
    "        total_diff += abs(μ[i] - ϕ[i])\n",
    "    end\n",
    "\n",
    "    total_diff/2\n",
    "end"
   ]
  },
  {
   "cell_type": "code",
   "execution_count": 51,
   "id": "b94bd1e4",
   "metadata": {},
   "outputs": [
    {
     "data": {
      "image/svg+xml": [
       "<?xml version=\"1.0\" encoding=\"utf-8\"?>\n",
       "<svg xmlns=\"http://www.w3.org/2000/svg\" xmlns:xlink=\"http://www.w3.org/1999/xlink\" width=\"600\" height=\"400\" viewBox=\"0 0 2400 1600\">\n",
       "<defs>\n",
       "  <clipPath id=\"clip370\">\n",
       "    <rect x=\"0\" y=\"0\" width=\"2400\" height=\"1600\"/>\n",
       "  </clipPath>\n",
       "</defs>\n",
       "<path clip-path=\"url(#clip370)\" d=\"M0 1600 L2400 1600 L2400 0 L0 0  Z\" fill=\"#ffffff\" fill-rule=\"evenodd\" fill-opacity=\"1\"/>\n",
       "<defs>\n",
       "  <clipPath id=\"clip371\">\n",
       "    <rect x=\"480\" y=\"0\" width=\"1681\" height=\"1600\"/>\n",
       "  </clipPath>\n",
       "</defs>\n",
       "<path clip-path=\"url(#clip370)\" d=\"M156.598 1486.45 L2352.76 1486.45 L2352.76 47.2441 L156.598 47.2441  Z\" fill=\"#ffffff\" fill-rule=\"evenodd\" fill-opacity=\"1\"/>\n",
       "<defs>\n",
       "  <clipPath id=\"clip372\">\n",
       "    <rect x=\"156\" y=\"47\" width=\"2197\" height=\"1440\"/>\n",
       "  </clipPath>\n",
       "</defs>\n",
       "<polyline clip-path=\"url(#clip372)\" style=\"stroke:#000000; stroke-linecap:round; stroke-linejoin:round; stroke-width:2; stroke-opacity:0.1; fill:none\" points=\"504.526,1486.45 504.526,47.2441 \"/>\n",
       "<polyline clip-path=\"url(#clip372)\" style=\"stroke:#000000; stroke-linecap:round; stroke-linejoin:round; stroke-width:2; stroke-opacity:0.1; fill:none\" points=\"861.741,1486.45 861.741,47.2441 \"/>\n",
       "<polyline clip-path=\"url(#clip372)\" style=\"stroke:#000000; stroke-linecap:round; stroke-linejoin:round; stroke-width:2; stroke-opacity:0.1; fill:none\" points=\"1218.96,1486.45 1218.96,47.2441 \"/>\n",
       "<polyline clip-path=\"url(#clip372)\" style=\"stroke:#000000; stroke-linecap:round; stroke-linejoin:round; stroke-width:2; stroke-opacity:0.1; fill:none\" points=\"1576.17,1486.45 1576.17,47.2441 \"/>\n",
       "<polyline clip-path=\"url(#clip372)\" style=\"stroke:#000000; stroke-linecap:round; stroke-linejoin:round; stroke-width:2; stroke-opacity:0.1; fill:none\" points=\"1933.39,1486.45 1933.39,47.2441 \"/>\n",
       "<polyline clip-path=\"url(#clip372)\" style=\"stroke:#000000; stroke-linecap:round; stroke-linejoin:round; stroke-width:2; stroke-opacity:0.1; fill:none\" points=\"2290.6,1486.45 2290.6,47.2441 \"/>\n",
       "<polyline clip-path=\"url(#clip370)\" style=\"stroke:#000000; stroke-linecap:round; stroke-linejoin:round; stroke-width:4; stroke-opacity:1; fill:none\" points=\"156.598,1486.45 2352.76,1486.45 \"/>\n",
       "<polyline clip-path=\"url(#clip370)\" style=\"stroke:#000000; stroke-linecap:round; stroke-linejoin:round; stroke-width:4; stroke-opacity:1; fill:none\" points=\"504.526,1486.45 504.526,1467.55 \"/>\n",
       "<polyline clip-path=\"url(#clip370)\" style=\"stroke:#000000; stroke-linecap:round; stroke-linejoin:round; stroke-width:4; stroke-opacity:1; fill:none\" points=\"861.741,1486.45 861.741,1467.55 \"/>\n",
       "<polyline clip-path=\"url(#clip370)\" style=\"stroke:#000000; stroke-linecap:round; stroke-linejoin:round; stroke-width:4; stroke-opacity:1; fill:none\" points=\"1218.96,1486.45 1218.96,1467.55 \"/>\n",
       "<polyline clip-path=\"url(#clip370)\" style=\"stroke:#000000; stroke-linecap:round; stroke-linejoin:round; stroke-width:4; stroke-opacity:1; fill:none\" points=\"1576.17,1486.45 1576.17,1467.55 \"/>\n",
       "<polyline clip-path=\"url(#clip370)\" style=\"stroke:#000000; stroke-linecap:round; stroke-linejoin:round; stroke-width:4; stroke-opacity:1; fill:none\" points=\"1933.39,1486.45 1933.39,1467.55 \"/>\n",
       "<polyline clip-path=\"url(#clip370)\" style=\"stroke:#000000; stroke-linecap:round; stroke-linejoin:round; stroke-width:4; stroke-opacity:1; fill:none\" points=\"2290.6,1486.45 2290.6,1467.55 \"/>\n",
       "<path clip-path=\"url(#clip370)\" d=\"M494.803 1514.29 L513.16 1514.29 L513.16 1518.22 L499.086 1518.22 L499.086 1526.7 Q500.104 1526.35 501.123 1526.19 Q502.141 1526 503.16 1526 Q508.947 1526 512.327 1529.17 Q515.706 1532.34 515.706 1537.76 Q515.706 1543.34 512.234 1546.44 Q508.762 1549.52 502.442 1549.52 Q500.266 1549.52 497.998 1549.15 Q495.753 1548.78 493.345 1548.04 L493.345 1543.34 Q495.428 1544.47 497.651 1545.03 Q499.873 1545.58 502.35 1545.58 Q506.354 1545.58 508.692 1543.48 Q511.03 1541.37 511.03 1537.76 Q511.03 1534.15 508.692 1532.04 Q506.354 1529.94 502.35 1529.94 Q500.475 1529.94 498.6 1530.35 Q496.748 1530.77 494.803 1531.65 L494.803 1514.29 Z\" fill=\"#000000\" fill-rule=\"nonzero\" fill-opacity=\"1\" /><path clip-path=\"url(#clip370)\" d=\"M836.428 1544.91 L844.067 1544.91 L844.067 1518.55 L835.757 1520.21 L835.757 1515.95 L844.021 1514.29 L848.697 1514.29 L848.697 1544.91 L856.336 1544.91 L856.336 1548.85 L836.428 1548.85 L836.428 1544.91 Z\" fill=\"#000000\" fill-rule=\"nonzero\" fill-opacity=\"1\" /><path clip-path=\"url(#clip370)\" d=\"M875.78 1517.37 Q872.169 1517.37 870.34 1520.93 Q868.535 1524.47 868.535 1531.6 Q868.535 1538.71 870.34 1542.27 Q872.169 1545.82 875.78 1545.82 Q879.414 1545.82 881.22 1542.27 Q883.048 1538.71 883.048 1531.6 Q883.048 1524.47 881.22 1520.93 Q879.414 1517.37 875.78 1517.37 M875.78 1513.66 Q881.59 1513.66 884.646 1518.27 Q887.724 1522.85 887.724 1531.6 Q887.724 1540.33 884.646 1544.94 Q881.59 1549.52 875.78 1549.52 Q869.97 1549.52 866.891 1544.94 Q863.835 1540.33 863.835 1531.6 Q863.835 1522.85 866.891 1518.27 Q869.97 1513.66 875.78 1513.66 Z\" fill=\"#000000\" fill-rule=\"nonzero\" fill-opacity=\"1\" /><path clip-path=\"url(#clip370)\" d=\"M1194.14 1544.91 L1201.78 1544.91 L1201.78 1518.55 L1193.47 1520.21 L1193.47 1515.95 L1201.73 1514.29 L1206.41 1514.29 L1206.41 1544.91 L1214.05 1544.91 L1214.05 1548.85 L1194.14 1548.85 L1194.14 1544.91 Z\" fill=\"#000000\" fill-rule=\"nonzero\" fill-opacity=\"1\" /><path clip-path=\"url(#clip370)\" d=\"M1223.54 1514.29 L1241.9 1514.29 L1241.9 1518.22 L1227.82 1518.22 L1227.82 1526.7 Q1228.84 1526.35 1229.86 1526.19 Q1230.88 1526 1231.9 1526 Q1237.68 1526 1241.06 1529.17 Q1244.44 1532.34 1244.44 1537.76 Q1244.44 1543.34 1240.97 1546.44 Q1237.5 1549.52 1231.18 1549.52 Q1229 1549.52 1226.73 1549.15 Q1224.49 1548.78 1222.08 1548.04 L1222.08 1543.34 Q1224.16 1544.47 1226.39 1545.03 Q1228.61 1545.58 1231.09 1545.58 Q1235.09 1545.58 1237.43 1543.48 Q1239.77 1541.37 1239.77 1537.76 Q1239.77 1534.15 1237.43 1532.04 Q1235.09 1529.94 1231.09 1529.94 Q1229.21 1529.94 1227.34 1530.35 Q1225.48 1530.77 1223.54 1531.65 L1223.54 1514.29 Z\" fill=\"#000000\" fill-rule=\"nonzero\" fill-opacity=\"1\" /><path clip-path=\"url(#clip370)\" d=\"M1554.94 1544.91 L1571.26 1544.91 L1571.26 1548.85 L1549.32 1548.85 L1549.32 1544.91 Q1551.98 1542.16 1556.56 1537.53 Q1561.17 1532.88 1562.35 1531.53 Q1564.6 1529.01 1565.48 1527.27 Q1566.38 1525.51 1566.38 1523.82 Q1566.38 1521.07 1564.43 1519.33 Q1562.51 1517.6 1559.41 1517.6 Q1557.21 1517.6 1554.76 1518.36 Q1552.33 1519.13 1549.55 1520.68 L1549.55 1515.95 Q1552.37 1514.82 1554.83 1514.24 Q1557.28 1513.66 1559.32 1513.66 Q1564.69 1513.66 1567.88 1516.35 Q1571.08 1519.03 1571.08 1523.52 Q1571.08 1525.65 1570.27 1527.57 Q1569.48 1529.47 1567.37 1532.07 Q1566.8 1532.74 1563.69 1535.95 Q1560.59 1539.15 1554.94 1544.91 Z\" fill=\"#000000\" fill-rule=\"nonzero\" fill-opacity=\"1\" /><path clip-path=\"url(#clip370)\" d=\"M1591.08 1517.37 Q1587.47 1517.37 1585.64 1520.93 Q1583.83 1524.47 1583.83 1531.6 Q1583.83 1538.71 1585.64 1542.27 Q1587.47 1545.82 1591.08 1545.82 Q1594.71 1545.82 1596.52 1542.27 Q1598.35 1538.71 1598.35 1531.6 Q1598.35 1524.47 1596.52 1520.93 Q1594.71 1517.37 1591.08 1517.37 M1591.08 1513.66 Q1596.89 1513.66 1599.94 1518.27 Q1603.02 1522.85 1603.02 1531.6 Q1603.02 1540.33 1599.94 1544.94 Q1596.89 1549.52 1591.08 1549.52 Q1585.27 1549.52 1582.19 1544.94 Q1579.13 1540.33 1579.13 1531.6 Q1579.13 1522.85 1582.19 1518.27 Q1585.27 1513.66 1591.08 1513.66 Z\" fill=\"#000000\" fill-rule=\"nonzero\" fill-opacity=\"1\" /><path clip-path=\"url(#clip370)\" d=\"M1912.66 1544.91 L1928.98 1544.91 L1928.98 1548.85 L1907.03 1548.85 L1907.03 1544.91 Q1909.69 1542.16 1914.28 1537.53 Q1918.88 1532.88 1920.06 1531.53 Q1922.31 1529.01 1923.19 1527.27 Q1924.09 1525.51 1924.09 1523.82 Q1924.09 1521.07 1922.15 1519.33 Q1920.23 1517.6 1917.12 1517.6 Q1914.92 1517.6 1912.47 1518.36 Q1910.04 1519.13 1907.26 1520.68 L1907.26 1515.95 Q1910.09 1514.82 1912.54 1514.24 Q1914.99 1513.66 1917.03 1513.66 Q1922.4 1513.66 1925.6 1516.35 Q1928.79 1519.03 1928.79 1523.52 Q1928.79 1525.65 1927.98 1527.57 Q1927.19 1529.47 1925.09 1532.07 Q1924.51 1532.74 1921.41 1535.95 Q1918.3 1539.15 1912.66 1544.91 Z\" fill=\"#000000\" fill-rule=\"nonzero\" fill-opacity=\"1\" /><path clip-path=\"url(#clip370)\" d=\"M1938.84 1514.29 L1957.19 1514.29 L1957.19 1518.22 L1943.12 1518.22 L1943.12 1526.7 Q1944.14 1526.35 1945.16 1526.19 Q1946.17 1526 1947.19 1526 Q1952.98 1526 1956.36 1529.17 Q1959.74 1532.34 1959.74 1537.76 Q1959.74 1543.34 1956.27 1546.44 Q1952.8 1549.52 1946.48 1549.52 Q1944.3 1549.52 1942.03 1549.15 Q1939.79 1548.78 1937.38 1548.04 L1937.38 1543.34 Q1939.46 1544.47 1941.68 1545.03 Q1943.91 1545.58 1946.38 1545.58 Q1950.39 1545.58 1952.73 1543.48 Q1955.06 1541.37 1955.06 1537.76 Q1955.06 1534.15 1952.73 1532.04 Q1950.39 1529.94 1946.38 1529.94 Q1944.51 1529.94 1942.63 1530.35 Q1940.78 1530.77 1938.84 1531.65 L1938.84 1514.29 Z\" fill=\"#000000\" fill-rule=\"nonzero\" fill-opacity=\"1\" /><path clip-path=\"url(#clip370)\" d=\"M2279.44 1530.21 Q2282.8 1530.93 2284.67 1533.2 Q2286.57 1535.47 2286.57 1538.8 Q2286.57 1543.92 2283.05 1546.72 Q2279.54 1549.52 2273.05 1549.52 Q2270.88 1549.52 2268.56 1549.08 Q2266.27 1548.66 2263.82 1547.81 L2263.82 1543.29 Q2265.76 1544.43 2268.08 1545.01 Q2270.39 1545.58 2272.92 1545.58 Q2277.31 1545.58 2279.61 1543.85 Q2281.92 1542.11 2281.92 1538.8 Q2281.92 1535.75 2279.77 1534.03 Q2277.64 1532.3 2273.82 1532.3 L2269.79 1532.3 L2269.79 1528.45 L2274 1528.45 Q2277.45 1528.45 2279.28 1527.09 Q2281.11 1525.7 2281.11 1523.11 Q2281.11 1520.45 2279.21 1519.03 Q2277.34 1517.6 2273.82 1517.6 Q2271.9 1517.6 2269.7 1518.01 Q2267.5 1518.43 2264.86 1519.31 L2264.86 1515.14 Q2267.52 1514.4 2269.84 1514.03 Q2272.17 1513.66 2274.23 1513.66 Q2279.56 1513.66 2282.66 1516.09 Q2285.76 1518.5 2285.76 1522.62 Q2285.76 1525.49 2284.12 1527.48 Q2282.48 1529.45 2279.44 1530.21 Z\" fill=\"#000000\" fill-rule=\"nonzero\" fill-opacity=\"1\" /><path clip-path=\"url(#clip370)\" d=\"M2305.44 1517.37 Q2301.83 1517.37 2300 1520.93 Q2298.19 1524.47 2298.19 1531.6 Q2298.19 1538.71 2300 1542.27 Q2301.83 1545.82 2305.44 1545.82 Q2309.07 1545.82 2310.88 1542.27 Q2312.71 1538.71 2312.71 1531.6 Q2312.71 1524.47 2310.88 1520.93 Q2309.07 1517.37 2305.44 1517.37 M2305.44 1513.66 Q2311.25 1513.66 2314.3 1518.27 Q2317.38 1522.85 2317.38 1531.6 Q2317.38 1540.33 2314.3 1544.94 Q2311.25 1549.52 2305.44 1549.52 Q2299.63 1549.52 2296.55 1544.94 Q2293.49 1540.33 2293.49 1531.6 Q2293.49 1522.85 2296.55 1518.27 Q2299.63 1513.66 2305.44 1513.66 Z\" fill=\"#000000\" fill-rule=\"nonzero\" fill-opacity=\"1\" /><polyline clip-path=\"url(#clip372)\" style=\"stroke:#000000; stroke-linecap:round; stroke-linejoin:round; stroke-width:2; stroke-opacity:0.1; fill:none\" points=\"156.598,1341.27 2352.76,1341.27 \"/>\n",
       "<polyline clip-path=\"url(#clip372)\" style=\"stroke:#000000; stroke-linecap:round; stroke-linejoin:round; stroke-width:2; stroke-opacity:0.1; fill:none\" points=\"156.598,1027.95 2352.76,1027.95 \"/>\n",
       "<polyline clip-path=\"url(#clip372)\" style=\"stroke:#000000; stroke-linecap:round; stroke-linejoin:round; stroke-width:2; stroke-opacity:0.1; fill:none\" points=\"156.598,714.625 2352.76,714.625 \"/>\n",
       "<polyline clip-path=\"url(#clip372)\" style=\"stroke:#000000; stroke-linecap:round; stroke-linejoin:round; stroke-width:2; stroke-opacity:0.1; fill:none\" points=\"156.598,401.301 2352.76,401.301 \"/>\n",
       "<polyline clip-path=\"url(#clip372)\" style=\"stroke:#000000; stroke-linecap:round; stroke-linejoin:round; stroke-width:2; stroke-opacity:0.1; fill:none\" points=\"156.598,87.9763 2352.76,87.9763 \"/>\n",
       "<polyline clip-path=\"url(#clip370)\" style=\"stroke:#000000; stroke-linecap:round; stroke-linejoin:round; stroke-width:4; stroke-opacity:1; fill:none\" points=\"156.598,1486.45 156.598,47.2441 \"/>\n",
       "<polyline clip-path=\"url(#clip370)\" style=\"stroke:#000000; stroke-linecap:round; stroke-linejoin:round; stroke-width:4; stroke-opacity:1; fill:none\" points=\"156.598,1341.27 175.496,1341.27 \"/>\n",
       "<polyline clip-path=\"url(#clip370)\" style=\"stroke:#000000; stroke-linecap:round; stroke-linejoin:round; stroke-width:4; stroke-opacity:1; fill:none\" points=\"156.598,1027.95 175.496,1027.95 \"/>\n",
       "<polyline clip-path=\"url(#clip370)\" style=\"stroke:#000000; stroke-linecap:round; stroke-linejoin:round; stroke-width:4; stroke-opacity:1; fill:none\" points=\"156.598,714.625 175.496,714.625 \"/>\n",
       "<polyline clip-path=\"url(#clip370)\" style=\"stroke:#000000; stroke-linecap:round; stroke-linejoin:round; stroke-width:4; stroke-opacity:1; fill:none\" points=\"156.598,401.301 175.496,401.301 \"/>\n",
       "<polyline clip-path=\"url(#clip370)\" style=\"stroke:#000000; stroke-linecap:round; stroke-linejoin:round; stroke-width:4; stroke-opacity:1; fill:none\" points=\"156.598,87.9763 175.496,87.9763 \"/>\n",
       "<path clip-path=\"url(#clip370)\" d=\"M65.0198 1327.07 Q61.4087 1327.07 59.58 1330.64 Q57.7745 1334.18 57.7745 1341.31 Q57.7745 1348.42 59.58 1351.98 Q61.4087 1355.52 65.0198 1355.52 Q68.6541 1355.52 70.4596 1351.98 Q72.2883 1348.42 72.2883 1341.31 Q72.2883 1334.18 70.4596 1330.64 Q68.6541 1327.07 65.0198 1327.07 M65.0198 1323.37 Q70.83 1323.37 73.8855 1327.98 Q76.9642 1332.56 76.9642 1341.31 Q76.9642 1350.04 73.8855 1354.64 Q70.83 1359.23 65.0198 1359.23 Q59.2097 1359.23 56.131 1354.64 Q53.0754 1350.04 53.0754 1341.31 Q53.0754 1332.56 56.131 1327.98 Q59.2097 1323.37 65.0198 1323.37 Z\" fill=\"#000000\" fill-rule=\"nonzero\" fill-opacity=\"1\" /><path clip-path=\"url(#clip370)\" d=\"M85.1818 1352.67 L90.066 1352.67 L90.066 1358.55 L85.1818 1358.55 L85.1818 1352.67 Z\" fill=\"#000000\" fill-rule=\"nonzero\" fill-opacity=\"1\" /><path clip-path=\"url(#clip370)\" d=\"M104.279 1354.62 L120.598 1354.62 L120.598 1358.55 L98.6539 1358.55 L98.6539 1354.62 Q101.316 1351.86 105.899 1347.23 Q110.506 1342.58 111.686 1341.24 Q113.932 1338.72 114.811 1336.98 Q115.714 1335.22 115.714 1333.53 Q115.714 1330.78 113.77 1329.04 Q111.848 1327.3 108.746 1327.3 Q106.547 1327.3 104.094 1328.07 Q101.663 1328.83 98.8854 1330.38 L98.8854 1325.66 Q101.709 1324.53 104.163 1323.95 Q106.617 1323.37 108.654 1323.37 Q114.024 1323.37 117.219 1326.05 Q120.413 1328.74 120.413 1333.23 Q120.413 1335.36 119.603 1337.28 Q118.816 1339.18 116.709 1341.77 Q116.131 1342.44 113.029 1345.66 Q109.927 1348.86 104.279 1354.62 Z\" fill=\"#000000\" fill-rule=\"nonzero\" fill-opacity=\"1\" /><path clip-path=\"url(#clip370)\" d=\"M62.9365 1013.75 Q59.3254 1013.75 57.4967 1017.31 Q55.6912 1020.85 55.6912 1027.98 Q55.6912 1035.09 57.4967 1038.66 Q59.3254 1042.2 62.9365 1042.2 Q66.5707 1042.2 68.3763 1038.66 Q70.205 1035.09 70.205 1027.98 Q70.205 1020.85 68.3763 1017.31 Q66.5707 1013.75 62.9365 1013.75 M62.9365 1010.04 Q68.7467 1010.04 71.8022 1014.65 Q74.8809 1019.23 74.8809 1027.98 Q74.8809 1036.71 71.8022 1041.32 Q68.7467 1045.9 62.9365 1045.9 Q57.1264 1045.9 54.0477 1041.32 Q50.9921 1036.71 50.9921 1027.98 Q50.9921 1019.23 54.0477 1014.65 Q57.1264 1010.04 62.9365 1010.04 Z\" fill=\"#000000\" fill-rule=\"nonzero\" fill-opacity=\"1\" /><path clip-path=\"url(#clip370)\" d=\"M83.0984 1039.35 L87.9827 1039.35 L87.9827 1045.23 L83.0984 1045.23 L83.0984 1039.35 Z\" fill=\"#000000\" fill-rule=\"nonzero\" fill-opacity=\"1\" /><path clip-path=\"url(#clip370)\" d=\"M111.015 1014.74 L99.2095 1033.19 L111.015 1033.19 L111.015 1014.74 M109.788 1010.67 L115.668 1010.67 L115.668 1033.19 L120.598 1033.19 L120.598 1037.08 L115.668 1037.08 L115.668 1045.23 L111.015 1045.23 L111.015 1037.08 L95.4132 1037.08 L95.4132 1032.57 L109.788 1010.67 Z\" fill=\"#000000\" fill-rule=\"nonzero\" fill-opacity=\"1\" /><path clip-path=\"url(#clip370)\" d=\"M63.2606 700.424 Q59.6495 700.424 57.8208 703.989 Q56.0152 707.53 56.0152 714.66 Q56.0152 721.766 57.8208 725.331 Q59.6495 728.873 63.2606 728.873 Q66.8948 728.873 68.7004 725.331 Q70.5291 721.766 70.5291 714.66 Q70.5291 707.53 68.7004 703.989 Q66.8948 700.424 63.2606 700.424 M63.2606 696.72 Q69.0707 696.72 72.1263 701.327 Q75.205 705.91 75.205 714.66 Q75.205 723.387 72.1263 727.993 Q69.0707 732.577 63.2606 732.577 Q57.4504 732.577 54.3717 727.993 Q51.3162 723.387 51.3162 714.66 Q51.3162 705.91 54.3717 701.327 Q57.4504 696.72 63.2606 696.72 Z\" fill=\"#000000\" fill-rule=\"nonzero\" fill-opacity=\"1\" /><path clip-path=\"url(#clip370)\" d=\"M83.4225 726.026 L88.3067 726.026 L88.3067 731.905 L83.4225 731.905 L83.4225 726.026 Z\" fill=\"#000000\" fill-rule=\"nonzero\" fill-opacity=\"1\" /><path clip-path=\"url(#clip370)\" d=\"M109.071 712.762 Q105.922 712.762 104.071 714.915 Q102.242 717.067 102.242 720.817 Q102.242 724.544 104.071 726.72 Q105.922 728.873 109.071 728.873 Q112.219 728.873 114.047 726.72 Q115.899 724.544 115.899 720.817 Q115.899 717.067 114.047 714.915 Q112.219 712.762 109.071 712.762 M118.353 698.109 L118.353 702.368 Q116.594 701.535 114.788 701.095 Q113.006 700.655 111.246 700.655 Q106.617 700.655 104.163 703.78 Q101.733 706.905 101.385 713.225 Q102.751 711.211 104.811 710.146 Q106.871 709.058 109.348 709.058 Q114.557 709.058 117.566 712.229 Q120.598 715.378 120.598 720.817 Q120.598 726.141 117.45 729.359 Q114.302 732.577 109.071 732.577 Q103.075 732.577 99.9039 727.993 Q96.7326 723.387 96.7326 714.66 Q96.7326 706.466 100.621 701.604 Q104.51 696.72 111.061 696.72 Q112.82 696.72 114.603 697.067 Q116.408 697.415 118.353 698.109 Z\" fill=\"#000000\" fill-rule=\"nonzero\" fill-opacity=\"1\" /><path clip-path=\"url(#clip370)\" d=\"M63.5152 387.099 Q59.9041 387.099 58.0754 390.664 Q56.2699 394.206 56.2699 401.335 Q56.2699 408.442 58.0754 412.007 Q59.9041 415.548 63.5152 415.548 Q67.1494 415.548 68.955 412.007 Q70.7837 408.442 70.7837 401.335 Q70.7837 394.206 68.955 390.664 Q67.1494 387.099 63.5152 387.099 M63.5152 383.396 Q69.3254 383.396 72.3809 388.002 Q75.4596 392.586 75.4596 401.335 Q75.4596 410.062 72.3809 414.669 Q69.3254 419.252 63.5152 419.252 Q57.7051 419.252 54.6264 414.669 Q51.5708 410.062 51.5708 401.335 Q51.5708 392.586 54.6264 388.002 Q57.7051 383.396 63.5152 383.396 Z\" fill=\"#000000\" fill-rule=\"nonzero\" fill-opacity=\"1\" /><path clip-path=\"url(#clip370)\" d=\"M83.6771 412.701 L88.5614 412.701 L88.5614 418.581 L83.6771 418.581 L83.6771 412.701 Z\" fill=\"#000000\" fill-rule=\"nonzero\" fill-opacity=\"1\" /><path clip-path=\"url(#clip370)\" d=\"M108.746 402.169 Q105.413 402.169 103.492 403.951 Q101.594 405.734 101.594 408.859 Q101.594 411.984 103.492 413.766 Q105.413 415.548 108.746 415.548 Q112.08 415.548 114.001 413.766 Q115.922 411.96 115.922 408.859 Q115.922 405.734 114.001 403.951 Q112.103 402.169 108.746 402.169 M104.071 400.178 Q101.061 399.437 99.3715 397.377 Q97.7048 395.317 97.7048 392.354 Q97.7048 388.211 100.645 385.803 Q103.608 383.396 108.746 383.396 Q113.908 383.396 116.848 385.803 Q119.788 388.211 119.788 392.354 Q119.788 395.317 118.098 397.377 Q116.432 399.437 113.445 400.178 Q116.825 400.965 118.7 403.257 Q120.598 405.548 120.598 408.859 Q120.598 413.882 117.52 416.567 Q114.464 419.252 108.746 419.252 Q103.029 419.252 99.9502 416.567 Q96.8947 413.882 96.8947 408.859 Q96.8947 405.548 98.7928 403.257 Q100.691 400.965 104.071 400.178 M102.358 392.794 Q102.358 395.479 104.024 396.984 Q105.714 398.488 108.746 398.488 Q111.756 398.488 113.445 396.984 Q115.158 395.479 115.158 392.794 Q115.158 390.109 113.445 388.604 Q111.756 387.099 108.746 387.099 Q105.714 387.099 104.024 388.604 Q102.358 390.109 102.358 392.794 Z\" fill=\"#000000\" fill-rule=\"nonzero\" fill-opacity=\"1\" /><path clip-path=\"url(#clip370)\" d=\"M54.2328 101.321 L61.8717 101.321 L61.8717 74.9555 L53.5616 76.6222 L53.5616 72.3629 L61.8254 70.6963 L66.5013 70.6963 L66.5013 101.321 L74.1402 101.321 L74.1402 105.256 L54.2328 105.256 L54.2328 101.321 Z\" fill=\"#000000\" fill-rule=\"nonzero\" fill-opacity=\"1\" /><path clip-path=\"url(#clip370)\" d=\"M83.5845 99.3767 L88.4688 99.3767 L88.4688 105.256 L83.5845 105.256 L83.5845 99.3767 Z\" fill=\"#000000\" fill-rule=\"nonzero\" fill-opacity=\"1\" /><path clip-path=\"url(#clip370)\" d=\"M108.654 73.775 Q105.043 73.775 103.214 77.3398 Q101.409 80.8814 101.409 88.011 Q101.409 95.1174 103.214 98.6822 Q105.043 102.224 108.654 102.224 Q112.288 102.224 114.094 98.6822 Q115.922 95.1174 115.922 88.011 Q115.922 80.8814 114.094 77.3398 Q112.288 73.775 108.654 73.775 M108.654 70.0713 Q114.464 70.0713 117.52 74.6777 Q120.598 79.261 120.598 88.011 Q120.598 96.7378 117.52 101.344 Q114.464 105.928 108.654 105.928 Q102.844 105.928 99.765 101.344 Q96.7095 96.7378 96.7095 88.011 Q96.7095 79.261 99.765 74.6777 Q102.844 70.0713 108.654 70.0713 Z\" fill=\"#000000\" fill-rule=\"nonzero\" fill-opacity=\"1\" /><polyline clip-path=\"url(#clip372)\" style=\"stroke:#009af9; stroke-linecap:round; stroke-linejoin:round; stroke-width:4; stroke-opacity:1; fill:none\" points=\"218.754,87.9763 290.197,87.9763 361.64,87.9763 433.083,87.9763 504.526,401.301 575.969,610.184 647.412,759.386 718.855,871.287 790.298,958.322 861.741,1027.95 933.184,1084.92 1004.63,1132.39 1076.07,1172.56 1147.51,1206.99 1218.96,1236.83 1290.4,1262.94 1361.84,1285.98 1433.28,1306.46 1504.73,1324.78 1576.17,1341.27 1647.61,1356.19 1719.06,1369.76 1790.5,1382.14 1861.94,1393.49 1933.39,1403.94 2004.83,1413.58 2076.27,1422.51 2147.71,1430.8 2219.16,1438.51 2290.6,1445.72 \"/>\n",
       "<path clip-path=\"url(#clip370)\" d=\"M2007.5 198.898 L2279.55 198.898 L2279.55 95.2176 L2007.5 95.2176  Z\" fill=\"#ffffff\" fill-rule=\"evenodd\" fill-opacity=\"1\"/>\n",
       "<polyline clip-path=\"url(#clip370)\" style=\"stroke:#000000; stroke-linecap:round; stroke-linejoin:round; stroke-width:4; stroke-opacity:1; fill:none\" points=\"2007.5,198.898 2279.55,198.898 2279.55,95.2176 2007.5,95.2176 2007.5,198.898 \"/>\n",
       "<polyline clip-path=\"url(#clip370)\" style=\"stroke:#009af9; stroke-linecap:round; stroke-linejoin:round; stroke-width:4; stroke-opacity:1; fill:none\" points=\"2031.91,147.058 2178.32,147.058 \"/>\n",
       "<path clip-path=\"url(#clip370)\" d=\"M2216.56 166.745 Q2214.76 171.375 2213.04 172.787 Q2211.33 174.199 2208.46 174.199 L2205.06 174.199 L2205.06 170.634 L2207.56 170.634 Q2209.32 170.634 2210.29 169.8 Q2211.26 168.967 2212.44 165.865 L2213.2 163.921 L2202.72 138.412 L2207.23 138.412 L2215.33 158.689 L2223.44 138.412 L2227.95 138.412 L2216.56 166.745 Z\" fill=\"#000000\" fill-rule=\"nonzero\" fill-opacity=\"1\" /><path clip-path=\"url(#clip370)\" d=\"M2235.24 160.402 L2242.88 160.402 L2242.88 134.037 L2234.57 135.703 L2234.57 131.444 L2242.83 129.778 L2247.51 129.778 L2247.51 160.402 L2255.15 160.402 L2255.15 164.338 L2235.24 164.338 L2235.24 160.402 Z\" fill=\"#000000\" fill-rule=\"nonzero\" fill-opacity=\"1\" /></svg>\n"
      ]
     },
     "execution_count": 51,
     "metadata": {},
     "output_type": "execute_result"
    }
   ],
   "source": [
    "N = 6\n",
    "X₀ = rand(Uniform(-1/sqrt(N), 1/sqrt(N)), N,1)\n",
    "bounds = (-1/sqrt(N), 1/sqrt(N))\n",
    "step_size = 0.15\n",
    "num_steps = 30\n",
    "\n",
    "tvds = get_tvds(X₀, num_steps, N, bounds, step_size)\n",
    "plot(tvds)"
   ]
  },
  {
   "cell_type": "code",
   "execution_count": 53,
   "id": "4f7244a1",
   "metadata": {},
   "outputs": [
    {
     "data": {
      "text/plain": [
       "Dict{Any, Any}()"
      ]
     },
     "execution_count": 53,
     "metadata": {},
     "output_type": "execute_result"
    }
   ],
   "source": [
    "d = Dict()"
   ]
  },
  {
   "cell_type": "code",
   "execution_count": 55,
   "id": "d83e7197",
   "metadata": {},
   "outputs": [
    {
     "data": {
      "text/plain": [
       "2"
      ]
     },
     "execution_count": 55,
     "metadata": {},
     "output_type": "execute_result"
    }
   ],
   "source": [
    "d[(-0.5, 0.5)] = 2"
   ]
  },
  {
   "cell_type": "code",
   "execution_count": 56,
   "id": "2c5bca3f",
   "metadata": {},
   "outputs": [
    {
     "data": {
      "text/plain": [
       "Dict{Any, Any} with 1 entry:\n",
       "  (-0.5, 0.5) => 2"
      ]
     },
     "execution_count": 56,
     "metadata": {},
     "output_type": "execute_result"
    }
   ],
   "source": [
    "d"
   ]
  },
  {
   "cell_type": "code",
   "execution_count": null,
   "id": "cddd20f5",
   "metadata": {},
   "outputs": [],
   "source": []
  }
 ],
 "metadata": {
  "@webio": {
   "lastCommId": null,
   "lastKernelId": null
  },
  "kernelspec": {
   "display_name": "Julia 1.6.3",
   "language": "julia",
   "name": "julia-1.6"
  },
  "language_info": {
   "file_extension": ".jl",
   "mimetype": "application/julia",
   "name": "julia",
   "version": "1.6.3"
  }
 },
 "nbformat": 4,
 "nbformat_minor": 5
}
